{
 "cells": [
  {
   "cell_type": "code",
   "execution_count": 6,
   "id": "21e77512",
   "metadata": {},
   "outputs": [],
   "source": [
    "lado_cozinha = 5\n",
    "\n",
    "def areaQuadrado(lado):\n",
    "    area = lado ** 2\n",
    "    return area"
   ]
  },
  {
   "cell_type": "code",
   "execution_count": 7,
   "id": "9efaafb4",
   "metadata": {},
   "outputs": [
    {
     "name": "stdout",
     "output_type": "stream",
     "text": [
      "25\n"
     ]
    }
   ],
   "source": [
    "area_cozinha = areaQuadrado(lado_cozinha)\n",
    "print(area_cozinha)"
   ]
  },
  {
   "cell_type": "code",
   "execution_count": 8,
   "id": "22ee5f46",
   "metadata": {},
   "outputs": [
    {
     "name": "stdout",
     "output_type": "stream",
     "text": [
      "25\n"
     ]
    }
   ],
   "source": [
    "area_cozinha = lambda lado: lado ** 2\n",
    "\n",
    "print(area_cozinha(5))"
   ]
  },
  {
   "cell_type": "code",
   "execution_count": null,
   "id": "30e3ec4d",
   "metadata": {},
   "outputs": [],
   "source": [
    "Criar uma função lambda que calcule a área de um triângulo\n",
    "area = base x altura / 2"
   ]
  },
  {
   "cell_type": "code",
   "execution_count": 9,
   "id": "20aa7ac0",
   "metadata": {},
   "outputs": [
    {
     "name": "stdout",
     "output_type": "stream",
     "text": [
      "20.0\n"
     ]
    }
   ],
   "source": [
    "area_triangulo = lambda base, altura : (base * altura) / 2\n",
    "print(area_triangulo(5,8))"
   ]
  },
  {
   "cell_type": "code",
   "execution_count": 10,
   "id": "53165380",
   "metadata": {},
   "outputs": [
    {
     "name": "stdout",
     "output_type": "stream",
     "text": [
      "[25, 36, 64, 16, 81]\n"
     ]
    }
   ],
   "source": [
    "lados= [5, 6, 8, 4, 9]\n",
    "\n",
    "areas = list(map(lambda lado : lado ** 2, lados))\n",
    "\n",
    "print(areas)"
   ]
  },
  {
   "cell_type": "code",
   "execution_count": 14,
   "id": "9e4578d5",
   "metadata": {},
   "outputs": [],
   "source": [
    "# Utilizando o map e lambda crie uma nova lista com as áreas\n",
    "# dos triângulos baseados nas duas listas abaixo\n",
    "# area = base * altura / 2\n",
    "bases = [2, 4, 6, 8, 10]\n",
    "alturas = [3, 6, 9, 12, 15]\n",
    "\n",
    "# Crie uma nova lista com os resultados das potenciações das listas abaixo\n",
    "bs = [2, 5, 7, 6, 10]\n",
    "expoentes = [3, 2, 2, 5, 2]"
   ]
  },
  {
   "cell_type": "code",
   "execution_count": 12,
   "id": "f2e04b17",
   "metadata": {},
   "outputs": [
    {
     "name": "stdout",
     "output_type": "stream",
     "text": [
      "[3.0, 12.0, 27.0, 48.0, 75.0]\n"
     ]
    }
   ],
   "source": [
    "areas_triangulos = list(map(lambda base, altura : (base * altura) / 2, bases, alturas))\n",
    "print(areas_triangulos)"
   ]
  },
  {
   "cell_type": "code",
   "execution_count": 15,
   "id": "d4f400c6",
   "metadata": {},
   "outputs": [
    {
     "name": "stdout",
     "output_type": "stream",
     "text": [
      "[8, 25, 49, 7776, 100]\n"
     ]
    }
   ],
   "source": [
    "potenciacoes = list(map(lambda base, expoente: base ** expoente, bs, expoentes))\n",
    "print(potenciacoes)"
   ]
  },
  {
   "cell_type": "code",
   "execution_count": 16,
   "id": "697fb331",
   "metadata": {},
   "outputs": [
    {
     "name": "stdout",
     "output_type": "stream",
     "text": [
      "[0, 1, 2, 3, 4, 5, 6, 7, 8, 9, 10, 11, 12, 13, 14, 15, 16, 17, 18, 19, 20, 21, 22, 23, 24, 25, 26, 27, 28, 29, 30, 31, 32, 33, 34, 35, 36, 37, 38, 39, 40, 41, 42, 43, 44, 45, 46, 47, 48, 49, 50, 51, 52, 53, 54, 55, 56, 57, 58, 59, 60, 61, 62, 63, 64, 65, 66, 67, 68, 69, 70, 71, 72, 73, 74, 75, 76, 77, 78, 79, 80, 81, 82, 83, 84, 85, 86, 87, 88, 89, 90, 91, 92, 93, 94, 95, 96, 97, 98, 99]\n"
     ]
    }
   ],
   "source": [
    "lista2 = [x for x in range(100)]\n",
    "print(lista2)"
   ]
  },
  {
   "cell_type": "code",
   "execution_count": 17,
   "id": "97ef5ae9",
   "metadata": {},
   "outputs": [
    {
     "name": "stdout",
     "output_type": "stream",
     "text": [
      "['zebra', 'cachorro', 'gato', 'girafa']\n"
     ]
    }
   ],
   "source": [
    "animais = ['zebra', 'cachorro', 'gato', 'girafa', 'golfinho']\n",
    "lista_a = [x for x in animais if 'a' in x]\n",
    "print(lista_a)"
   ]
  },
  {
   "cell_type": "code",
   "execution_count": 21,
   "id": "179c02c6",
   "metadata": {},
   "outputs": [
    {
     "data": {
      "text/plain": [
       "0    1\n",
       "1    5\n",
       "2    6\n",
       "3    9\n",
       "4    7\n",
       "dtype: int64"
      ]
     },
     "metadata": {},
     "output_type": "display_data"
    },
    {
     "name": "stdout",
     "output_type": "stream",
     "text": [
      "1\n"
     ]
    }
   ],
   "source": [
    "import pandas as pd\n",
    "\n",
    "lista_serie = [1, 5, 6, 9, 7]\n",
    "serie = pd.Series(lista_serie)\n",
    "display(serie)\n",
    "\n",
    "print(serie.ndim) # número de dimensões"
   ]
  },
  {
   "cell_type": "code",
   "execution_count": 26,
   "id": "65f65ff9",
   "metadata": {},
   "outputs": [
    {
     "name": "stdout",
     "output_type": "stream",
     "text": [
      "<class 'pandas.core.series.Series'>\n",
      "RangeIndex: 5 entries, 0 to 4\n",
      "Series name: None\n",
      "Non-Null Count  Dtype\n",
      "--------------  -----\n",
      "5 non-null      int64\n",
      "dtypes: int64(1)\n",
      "memory usage: 168.0 bytes\n",
      "None\n",
      "28\n",
      "5.6\n",
      "6.0\n",
      "count    5.000000\n",
      "mean     5.600000\n",
      "std      2.966479\n",
      "min      1.000000\n",
      "25%      5.000000\n",
      "50%      6.000000\n",
      "75%      7.000000\n",
      "max      9.000000\n",
      "dtype: float64\n"
     ]
    }
   ],
   "source": [
    "print(serie.info())\n",
    "print(serie.sum())\n",
    "print(serie.mean())\n",
    "print(serie.median())\n",
    "print(serie.describe())"
   ]
  },
  {
   "cell_type": "code",
   "execution_count": 28,
   "id": "603bb860",
   "metadata": {},
   "outputs": [
    {
     "data": {
      "text/html": [
       "<div>\n",
       "<style scoped>\n",
       "    .dataframe tbody tr th:only-of-type {\n",
       "        vertical-align: middle;\n",
       "    }\n",
       "\n",
       "    .dataframe tbody tr th {\n",
       "        vertical-align: top;\n",
       "    }\n",
       "\n",
       "    .dataframe thead th {\n",
       "        text-align: right;\n",
       "    }\n",
       "</style>\n",
       "<table border=\"1\" class=\"dataframe\">\n",
       "  <thead>\n",
       "    <tr style=\"text-align: right;\">\n",
       "      <th></th>\n",
       "      <th>coluna1</th>\n",
       "      <th>coluna2</th>\n",
       "      <th>coluna3</th>\n",
       "    </tr>\n",
       "  </thead>\n",
       "  <tbody>\n",
       "    <tr>\n",
       "      <th>0</th>\n",
       "      <td>0</td>\n",
       "      <td>0</td>\n",
       "      <td>0</td>\n",
       "    </tr>\n",
       "    <tr>\n",
       "      <th>1</th>\n",
       "      <td>2</td>\n",
       "      <td>1</td>\n",
       "      <td>1</td>\n",
       "    </tr>\n",
       "    <tr>\n",
       "      <th>2</th>\n",
       "      <td>4</td>\n",
       "      <td>2</td>\n",
       "      <td>4</td>\n",
       "    </tr>\n",
       "    <tr>\n",
       "      <th>3</th>\n",
       "      <td>6</td>\n",
       "      <td>3</td>\n",
       "      <td>9</td>\n",
       "    </tr>\n",
       "    <tr>\n",
       "      <th>4</th>\n",
       "      <td>8</td>\n",
       "      <td>4</td>\n",
       "      <td>16</td>\n",
       "    </tr>\n",
       "    <tr>\n",
       "      <th>...</th>\n",
       "      <td>...</td>\n",
       "      <td>...</td>\n",
       "      <td>...</td>\n",
       "    </tr>\n",
       "    <tr>\n",
       "      <th>95</th>\n",
       "      <td>190</td>\n",
       "      <td>95</td>\n",
       "      <td>9025</td>\n",
       "    </tr>\n",
       "    <tr>\n",
       "      <th>96</th>\n",
       "      <td>192</td>\n",
       "      <td>96</td>\n",
       "      <td>9216</td>\n",
       "    </tr>\n",
       "    <tr>\n",
       "      <th>97</th>\n",
       "      <td>194</td>\n",
       "      <td>97</td>\n",
       "      <td>9409</td>\n",
       "    </tr>\n",
       "    <tr>\n",
       "      <th>98</th>\n",
       "      <td>196</td>\n",
       "      <td>98</td>\n",
       "      <td>9604</td>\n",
       "    </tr>\n",
       "    <tr>\n",
       "      <th>99</th>\n",
       "      <td>198</td>\n",
       "      <td>99</td>\n",
       "      <td>9801</td>\n",
       "    </tr>\n",
       "  </tbody>\n",
       "</table>\n",
       "<p>100 rows × 3 columns</p>\n",
       "</div>"
      ],
      "text/plain": [
       "    coluna1  coluna2  coluna3\n",
       "0         0        0        0\n",
       "1         2        1        1\n",
       "2         4        2        4\n",
       "3         6        3        9\n",
       "4         8        4       16\n",
       "..      ...      ...      ...\n",
       "95      190       95     9025\n",
       "96      192       96     9216\n",
       "97      194       97     9409\n",
       "98      196       98     9604\n",
       "99      198       99     9801\n",
       "\n",
       "[100 rows x 3 columns]"
      ]
     },
     "metadata": {},
     "output_type": "display_data"
    }
   ],
   "source": [
    "dicio = {'coluna1': [x for x in range(200) if x % 2 == 0], 'coluna2': list(range(0, 100)), 'coluna3': \n",
    "         list(map(lambda x: x ** 2, range(0,100)))}\n",
    "\n",
    "dicio_2 = pd.DataFrame(dicio)\n",
    "display(dicio_2)"
   ]
  },
  {
   "cell_type": "code",
   "execution_count": 32,
   "id": "698d7a14",
   "metadata": {},
   "outputs": [
    {
     "name": "stdout",
     "output_type": "stream",
     "text": [
      "0       0\n",
      "1       2\n",
      "2       4\n",
      "3       6\n",
      "4       8\n",
      "     ... \n",
      "95    190\n",
      "96    192\n",
      "97    194\n",
      "98    196\n",
      "99    198\n",
      "Name: coluna1, Length: 100, dtype: int64\n"
     ]
    }
   ],
   "source": [
    "print(dicio_2['coluna1'])\n"
   ]
  },
  {
   "cell_type": "code",
   "execution_count": 39,
   "id": "b1986690",
   "metadata": {},
   "outputs": [
    {
     "name": "stdout",
     "output_type": "stream",
     "text": [
      "2\n",
      "\n",
      "\n",
      "coluna1      9900\n",
      "coluna2      4950\n",
      "coluna3    328350\n",
      "dtype: int64\n",
      "\n",
      "\n",
      "coluna1      99.0\n",
      "coluna2      49.5\n",
      "coluna3    3283.5\n",
      "dtype: float64\n",
      "\n",
      "\n",
      "coluna1     198\n",
      "coluna2      99\n",
      "coluna3    9801\n",
      "dtype: int64\n",
      "\n",
      "\n",
      "          coluna1     coluna2      coluna3\n",
      "count  100.000000  100.000000   100.000000\n",
      "mean    99.000000   49.500000  3283.500000\n",
      "std     58.022984   29.011492  2968.174804\n",
      "min      0.000000    0.000000     0.000000\n",
      "25%     49.500000   24.750000   612.750000\n",
      "50%     99.000000   49.500000  2450.500000\n",
      "75%    148.500000   74.250000  5513.250000\n",
      "max    198.000000   99.000000  9801.000000\n"
     ]
    }
   ],
   "source": [
    "print(dicio_2.ndim)\n",
    "print('\\n')\n",
    "print(dicio_2.sum())\n",
    "print('\\n')\n",
    "print(dicio_2.mean())\n",
    "print('\\n')\n",
    "print(dicio_2.max())\n",
    "print('\\n')\n",
    "print(dicio_2.describe())"
   ]
  },
  {
   "cell_type": "code",
   "execution_count": 45,
   "id": "f85aba4e",
   "metadata": {},
   "outputs": [
    {
     "data": {
      "text/html": [
       "<style type=\"text/css\">\n",
       "#T_6f5e5_row0_col0, #T_6f5e5_row0_col1, #T_6f5e5_row0_col2, #T_6f5e5_row0_col3, #T_6f5e5_row1_col0, #T_6f5e5_row1_col1, #T_6f5e5_row1_col2, #T_6f5e5_row1_col3, #T_6f5e5_row2_col0, #T_6f5e5_row2_col1, #T_6f5e5_row2_col2, #T_6f5e5_row2_col3, #T_6f5e5_row3_col0, #T_6f5e5_row3_col1, #T_6f5e5_row3_col2, #T_6f5e5_row3_col3, #T_6f5e5_row4_col0, #T_6f5e5_row4_col1, #T_6f5e5_row4_col2, #T_6f5e5_row4_col3 {\n",
       "  text-align: left;\n",
       "}\n",
       "</style>\n",
       "<table id=\"T_6f5e5\">\n",
       "  <thead>\n",
       "    <tr>\n",
       "      <th class=\"blank level0\" >&nbsp;</th>\n",
       "      <th id=\"T_6f5e5_level0_col0\" class=\"col_heading level0 col0\" >Matricula</th>\n",
       "      <th id=\"T_6f5e5_level0_col1\" class=\"col_heading level0 col1\" >Nome</th>\n",
       "      <th id=\"T_6f5e5_level0_col2\" class=\"col_heading level0 col2\" >Idade</th>\n",
       "      <th id=\"T_6f5e5_level0_col3\" class=\"col_heading level0 col3\" >Curso</th>\n",
       "    </tr>\n",
       "  </thead>\n",
       "  <tbody>\n",
       "    <tr>\n",
       "      <th id=\"T_6f5e5_level0_row0\" class=\"row_heading level0 row0\" >0</th>\n",
       "      <td id=\"T_6f5e5_row0_col0\" class=\"data row0 col0\" >1111</td>\n",
       "      <td id=\"T_6f5e5_row0_col1\" class=\"data row0 col1\" >João das Neves</td>\n",
       "      <td id=\"T_6f5e5_row0_col2\" class=\"data row0 col2\" >18</td>\n",
       "      <td id=\"T_6f5e5_row0_col3\" class=\"data row0 col3\" >Metaverso</td>\n",
       "    </tr>\n",
       "    <tr>\n",
       "      <th id=\"T_6f5e5_level0_row1\" class=\"row_heading level0 row1\" >1</th>\n",
       "      <td id=\"T_6f5e5_row1_col0\" class=\"data row1 col0\" >2222</td>\n",
       "      <td id=\"T_6f5e5_row1_col1\" class=\"data row1 col1\" >Joana Darc</td>\n",
       "      <td id=\"T_6f5e5_row1_col2\" class=\"data row1 col2\" >19</td>\n",
       "      <td id=\"T_6f5e5_row1_col3\" class=\"data row1 col3\" >Dev Fullstack</td>\n",
       "    </tr>\n",
       "    <tr>\n",
       "      <th id=\"T_6f5e5_level0_row2\" class=\"row_heading level0 row2\" >2</th>\n",
       "      <td id=\"T_6f5e5_row2_col0\" class=\"data row2 col0\" >3333</td>\n",
       "      <td id=\"T_6f5e5_row2_col1\" class=\"data row2 col1\" >Leia</td>\n",
       "      <td id=\"T_6f5e5_row2_col2\" class=\"data row2 col2\" >18</td>\n",
       "      <td id=\"T_6f5e5_row2_col3\" class=\"data row2 col3\" >Dev Fullstack</td>\n",
       "    </tr>\n",
       "    <tr>\n",
       "      <th id=\"T_6f5e5_level0_row3\" class=\"row_heading level0 row3\" >3</th>\n",
       "      <td id=\"T_6f5e5_row3_col0\" class=\"data row3 col0\" >4444</td>\n",
       "      <td id=\"T_6f5e5_row3_col1\" class=\"data row3 col1\" >Marcos</td>\n",
       "      <td id=\"T_6f5e5_row3_col2\" class=\"data row3 col2\" >28</td>\n",
       "      <td id=\"T_6f5e5_row3_col3\" class=\"data row3 col3\" >Fotografia</td>\n",
       "    </tr>\n",
       "    <tr>\n",
       "      <th id=\"T_6f5e5_level0_row4\" class=\"row_heading level0 row4\" >4</th>\n",
       "      <td id=\"T_6f5e5_row4_col0\" class=\"data row4 col0\" >5555</td>\n",
       "      <td id=\"T_6f5e5_row4_col1\" class=\"data row4 col1\" >Miguel A.</td>\n",
       "      <td id=\"T_6f5e5_row4_col2\" class=\"data row4 col2\" >26</td>\n",
       "      <td id=\"T_6f5e5_row4_col3\" class=\"data row4 col3\" >Design</td>\n",
       "    </tr>\n",
       "  </tbody>\n",
       "</table>\n"
      ],
      "text/plain": [
       "<pandas.io.formats.style.Styler at 0x1856072a0a0>"
      ]
     },
     "metadata": {},
     "output_type": "display_data"
    }
   ],
   "source": [
    "dic = {'Matricula': [1111, 2222, 3333, 4444, 5555], 'Nome': ['João das Neves', 'Joana Darc', 'Leia', 'Marcos', 'Miguel A.'],\n",
    "      'Idade': [18, 19, 18, 28, 26], 'Curso': ['Metaverso', 'Dev Fullstack', 'Dev Fullstack', 'Fotografia', 'Design']}\n",
    "\n",
    "dt = pd.DataFrame(dic)\n",
    "dt.f\n",
    "left_aligned_df = dt.style.set_properties(**{'text-align': 'left'})\n",
    "display(left_aligned_df)\n",
    "# display(dt)"
   ]
  },
  {
   "cell_type": "code",
   "execution_count": 63,
   "id": "0a708d64",
   "metadata": {},
   "outputs": [
    {
     "data": {
      "text/html": [
       "<div>\n",
       "<style scoped>\n",
       "    .dataframe tbody tr th:only-of-type {\n",
       "        vertical-align: middle;\n",
       "    }\n",
       "\n",
       "    .dataframe tbody tr th {\n",
       "        vertical-align: top;\n",
       "    }\n",
       "\n",
       "    .dataframe thead th {\n",
       "        text-align: right;\n",
       "    }\n",
       "</style>\n",
       "<table border=\"1\" class=\"dataframe\">\n",
       "  <thead>\n",
       "    <tr style=\"text-align: right;\">\n",
       "      <th></th>\n",
       "      <th>Unnamed: 0</th>\n",
       "      <th>Players</th>\n",
       "      <th>height</th>\n",
       "      <th>weight</th>\n",
       "      <th>collage</th>\n",
       "      <th>born</th>\n",
       "      <th>birth_city</th>\n",
       "      <th>birth_state</th>\n",
       "    </tr>\n",
       "  </thead>\n",
       "  <tbody>\n",
       "    <tr>\n",
       "      <th>0</th>\n",
       "      <td>0</td>\n",
       "      <td>Curly Armstrong</td>\n",
       "      <td>180.0</td>\n",
       "      <td>77.0</td>\n",
       "      <td>Indiana University</td>\n",
       "      <td>1918.0</td>\n",
       "      <td>NaN</td>\n",
       "      <td>NaN</td>\n",
       "    </tr>\n",
       "    <tr>\n",
       "      <th>1</th>\n",
       "      <td>1</td>\n",
       "      <td>Cliff Barker</td>\n",
       "      <td>188.0</td>\n",
       "      <td>83.0</td>\n",
       "      <td>University of Kentucky</td>\n",
       "      <td>1921.0</td>\n",
       "      <td>Yorktown</td>\n",
       "      <td>Indiana</td>\n",
       "    </tr>\n",
       "    <tr>\n",
       "      <th>2</th>\n",
       "      <td>2</td>\n",
       "      <td>Leo Barnhorst</td>\n",
       "      <td>193.0</td>\n",
       "      <td>86.0</td>\n",
       "      <td>University of Notre Dame</td>\n",
       "      <td>1924.0</td>\n",
       "      <td>NaN</td>\n",
       "      <td>NaN</td>\n",
       "    </tr>\n",
       "    <tr>\n",
       "      <th>3</th>\n",
       "      <td>3</td>\n",
       "      <td>Ed Bartels</td>\n",
       "      <td>196.0</td>\n",
       "      <td>88.0</td>\n",
       "      <td>North Carolina State University</td>\n",
       "      <td>1925.0</td>\n",
       "      <td>NaN</td>\n",
       "      <td>NaN</td>\n",
       "    </tr>\n",
       "    <tr>\n",
       "      <th>4</th>\n",
       "      <td>4</td>\n",
       "      <td>Ralph Beard</td>\n",
       "      <td>178.0</td>\n",
       "      <td>79.0</td>\n",
       "      <td>University of Kentucky</td>\n",
       "      <td>1927.0</td>\n",
       "      <td>Hardinsburg</td>\n",
       "      <td>Kentucky</td>\n",
       "    </tr>\n",
       "    <tr>\n",
       "      <th>...</th>\n",
       "      <td>...</td>\n",
       "      <td>...</td>\n",
       "      <td>...</td>\n",
       "      <td>...</td>\n",
       "      <td>...</td>\n",
       "      <td>...</td>\n",
       "      <td>...</td>\n",
       "      <td>...</td>\n",
       "    </tr>\n",
       "    <tr>\n",
       "      <th>3917</th>\n",
       "      <td>3917</td>\n",
       "      <td>Troy Williams</td>\n",
       "      <td>198.0</td>\n",
       "      <td>97.0</td>\n",
       "      <td>South Carolina State University</td>\n",
       "      <td>1969.0</td>\n",
       "      <td>Columbia</td>\n",
       "      <td>South Carolina</td>\n",
       "    </tr>\n",
       "    <tr>\n",
       "      <th>3918</th>\n",
       "      <td>3918</td>\n",
       "      <td>Kyle Wiltjer</td>\n",
       "      <td>208.0</td>\n",
       "      <td>108.0</td>\n",
       "      <td>Gonzaga University</td>\n",
       "      <td>1992.0</td>\n",
       "      <td>Portland</td>\n",
       "      <td>Oregon</td>\n",
       "    </tr>\n",
       "    <tr>\n",
       "      <th>3919</th>\n",
       "      <td>3919</td>\n",
       "      <td>Stephen Zimmerman</td>\n",
       "      <td>213.0</td>\n",
       "      <td>108.0</td>\n",
       "      <td>University of Nevada, Las Vegas</td>\n",
       "      <td>1996.0</td>\n",
       "      <td>Hendersonville</td>\n",
       "      <td>Tennessee</td>\n",
       "    </tr>\n",
       "    <tr>\n",
       "      <th>3920</th>\n",
       "      <td>3920</td>\n",
       "      <td>Paul Zipser</td>\n",
       "      <td>203.0</td>\n",
       "      <td>97.0</td>\n",
       "      <td>NaN</td>\n",
       "      <td>1994.0</td>\n",
       "      <td>Heidelberg</td>\n",
       "      <td>Germany</td>\n",
       "    </tr>\n",
       "    <tr>\n",
       "      <th>3921</th>\n",
       "      <td>3921</td>\n",
       "      <td>Ivica Zubac</td>\n",
       "      <td>216.0</td>\n",
       "      <td>120.0</td>\n",
       "      <td>NaN</td>\n",
       "      <td>1997.0</td>\n",
       "      <td>Mostar</td>\n",
       "      <td>Bosnia and Herzegovina</td>\n",
       "    </tr>\n",
       "  </tbody>\n",
       "</table>\n",
       "<p>3922 rows × 8 columns</p>\n",
       "</div>"
      ],
      "text/plain": [
       "      Unnamed: 0            Players  height  weight  \\\n",
       "0              0    Curly Armstrong   180.0    77.0   \n",
       "1              1       Cliff Barker   188.0    83.0   \n",
       "2              2      Leo Barnhorst   193.0    86.0   \n",
       "3              3         Ed Bartels   196.0    88.0   \n",
       "4              4        Ralph Beard   178.0    79.0   \n",
       "...          ...                ...     ...     ...   \n",
       "3917        3917      Troy Williams   198.0    97.0   \n",
       "3918        3918       Kyle Wiltjer   208.0   108.0   \n",
       "3919        3919  Stephen Zimmerman   213.0   108.0   \n",
       "3920        3920        Paul Zipser   203.0    97.0   \n",
       "3921        3921        Ivica Zubac   216.0   120.0   \n",
       "\n",
       "                              collage    born      birth_city  \\\n",
       "0                  Indiana University  1918.0             NaN   \n",
       "1              University of Kentucky  1921.0        Yorktown   \n",
       "2            University of Notre Dame  1924.0             NaN   \n",
       "3     North Carolina State University  1925.0             NaN   \n",
       "4              University of Kentucky  1927.0     Hardinsburg   \n",
       "...                               ...     ...             ...   \n",
       "3917  South Carolina State University  1969.0        Columbia   \n",
       "3918               Gonzaga University  1992.0        Portland   \n",
       "3919  University of Nevada, Las Vegas  1996.0  Hendersonville   \n",
       "3920                              NaN  1994.0      Heidelberg   \n",
       "3921                              NaN  1997.0          Mostar   \n",
       "\n",
       "                 birth_state  \n",
       "0                        NaN  \n",
       "1                    Indiana  \n",
       "2                        NaN  \n",
       "3                        NaN  \n",
       "4                   Kentucky  \n",
       "...                      ...  \n",
       "3917          South Carolina  \n",
       "3918                  Oregon  \n",
       "3919               Tennessee  \n",
       "3920                 Germany  \n",
       "3921  Bosnia and Herzegovina  \n",
       "\n",
       "[3922 rows x 8 columns]"
      ]
     },
     "metadata": {},
     "output_type": "display_data"
    }
   ],
   "source": [
    "players = pd.read_csv('Players.csv')\n",
    "players.rename(columns= {players.isnull().any().any():'Código','Player': 'Players'}, inplace=True)\n",
    "display(players)"
   ]
  }
 ],
 "metadata": {
  "kernelspec": {
   "display_name": "Python 3 (ipykernel)",
   "language": "python",
   "name": "python3"
  },
  "language_info": {
   "codemirror_mode": {
    "name": "ipython",
    "version": 3
   },
   "file_extension": ".py",
   "mimetype": "text/x-python",
   "name": "python",
   "nbconvert_exporter": "python",
   "pygments_lexer": "ipython3",
   "version": "3.9.12"
  }
 },
 "nbformat": 4,
 "nbformat_minor": 5
}
