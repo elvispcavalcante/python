{
 "cells": [
  {
   "cell_type": "code",
   "execution_count": 2,
   "id": "b604b4d8",
   "metadata": {},
   "outputs": [],
   "source": [
    "import pandas as pd"
   ]
  },
  {
   "cell_type": "code",
   "execution_count": 8,
   "id": "10de6903",
   "metadata": {},
   "outputs": [
    {
     "data": {
      "text/html": [
       "<div>\n",
       "<style scoped>\n",
       "    .dataframe tbody tr th:only-of-type {\n",
       "        vertical-align: middle;\n",
       "    }\n",
       "\n",
       "    .dataframe tbody tr th {\n",
       "        vertical-align: top;\n",
       "    }\n",
       "\n",
       "    .dataframe thead th {\n",
       "        text-align: right;\n",
       "    }\n",
       "</style>\n",
       "<table border=\"1\" class=\"dataframe\">\n",
       "  <thead>\n",
       "    <tr style=\"text-align: right;\">\n",
       "      <th></th>\n",
       "      <th>Linguagem</th>\n",
       "      <th>Popularidade</th>\n",
       "      <th>Versão</th>\n",
       "      <th>Desenvolvedores</th>\n",
       "      <th>Data de Lançamento</th>\n",
       "    </tr>\n",
       "  </thead>\n",
       "  <tbody>\n",
       "    <tr>\n",
       "      <th>0</th>\n",
       "      <td>Python</td>\n",
       "      <td>Alta</td>\n",
       "      <td>3.10</td>\n",
       "      <td>7000000</td>\n",
       "      <td>1991-02-20</td>\n",
       "    </tr>\n",
       "    <tr>\n",
       "      <th>1</th>\n",
       "      <td>R</td>\n",
       "      <td>Baixa</td>\n",
       "      <td>4.20</td>\n",
       "      <td>500000</td>\n",
       "      <td>1993-08-03</td>\n",
       "    </tr>\n",
       "    <tr>\n",
       "      <th>2</th>\n",
       "      <td>SQL</td>\n",
       "      <td>Altíssima</td>\n",
       "      <td>NaN</td>\n",
       "      <td>20000000</td>\n",
       "      <td>1986-01-01</td>\n",
       "    </tr>\n",
       "    <tr>\n",
       "      <th>3</th>\n",
       "      <td>C</td>\n",
       "      <td>Média</td>\n",
       "      <td>NaN</td>\n",
       "      <td>3500000</td>\n",
       "      <td>1972-01-01</td>\n",
       "    </tr>\n",
       "    <tr>\n",
       "      <th>4</th>\n",
       "      <td>Java</td>\n",
       "      <td>Altíssima</td>\n",
       "      <td>11.00</td>\n",
       "      <td>16000000</td>\n",
       "      <td>1995-05-23</td>\n",
       "    </tr>\n",
       "    <tr>\n",
       "      <th>5</th>\n",
       "      <td>Javascript</td>\n",
       "      <td>Altíssima</td>\n",
       "      <td>16.00</td>\n",
       "      <td>25000000</td>\n",
       "      <td>1995-12-04</td>\n",
       "    </tr>\n",
       "    <tr>\n",
       "      <th>6</th>\n",
       "      <td>Elixir</td>\n",
       "      <td>Baixa</td>\n",
       "      <td>1.12</td>\n",
       "      <td>200000</td>\n",
       "      <td>2012-01-01</td>\n",
       "    </tr>\n",
       "  </tbody>\n",
       "</table>\n",
       "</div>"
      ],
      "text/plain": [
       "    Linguagem Popularidade  Versão  Desenvolvedores Data de Lançamento\n",
       "0      Python         Alta    3.10          7000000         1991-02-20\n",
       "1           R        Baixa    4.20           500000         1993-08-03\n",
       "2         SQL    Altíssima     NaN         20000000         1986-01-01\n",
       "3           C        Média     NaN          3500000         1972-01-01\n",
       "4        Java    Altíssima   11.00         16000000         1995-05-23\n",
       "5  Javascript    Altíssima   16.00         25000000         1995-12-04\n",
       "6      Elixir        Baixa    1.12           200000         2012-01-01"
      ]
     },
     "execution_count": 8,
     "metadata": {},
     "output_type": "execute_result"
    }
   ],
   "source": [
    "data = pd.DataFrame(\n",
    "    {\n",
    "        'Linguagem': ['Python', 'R', 'SQL', 'C','Java', 'Javascript', 'Elixir'],\n",
    "        'Popularidade': ['Alta', 'Baixa', 'Altíssima', 'Média', 'Altíssima', 'Altíssima', 'Baixa'],\n",
    "        'Versão': [3.10,4.2,None, None, 11, 16, 1.12],\n",
    "        'Desenvolvedores': [7_000_000, 500_000, 20_000_000, 3_500_000, 16_000_000, 25_000_000, 200_000],\n",
    "        'Data de Lançamento': ['1991-02-20', '1993-08-03', '1986-01-01', '1972-01-01', '1995-05-23', '1995-12-04', '2012-01-01']\n",
    "            \n",
    "    }\n",
    ")\n",
    "\n",
    "data"
   ]
  },
  {
   "cell_type": "code",
   "execution_count": 9,
   "id": "066d51dc",
   "metadata": {},
   "outputs": [
    {
     "data": {
      "text/plain": [
       "Linguagem              object\n",
       "Popularidade           object\n",
       "Versão                float64\n",
       "Desenvolvedores         int64\n",
       "Data de Lançamento     object\n",
       "dtype: object"
      ]
     },
     "execution_count": 9,
     "metadata": {},
     "output_type": "execute_result"
    }
   ],
   "source": [
    "data.dtypes"
   ]
  },
  {
   "cell_type": "code",
   "execution_count": 10,
   "id": "a86d6185",
   "metadata": {},
   "outputs": [
    {
     "data": {
      "text/html": [
       "<div>\n",
       "<style scoped>\n",
       "    .dataframe tbody tr th:only-of-type {\n",
       "        vertical-align: middle;\n",
       "    }\n",
       "\n",
       "    .dataframe tbody tr th {\n",
       "        vertical-align: top;\n",
       "    }\n",
       "\n",
       "    .dataframe thead th {\n",
       "        text-align: right;\n",
       "    }\n",
       "</style>\n",
       "<table border=\"1\" class=\"dataframe\">\n",
       "  <thead>\n",
       "    <tr style=\"text-align: right;\">\n",
       "      <th></th>\n",
       "      <th>Linguagem</th>\n",
       "      <th>Popularidade</th>\n",
       "      <th>Versão</th>\n",
       "      <th>Desenvolvedores</th>\n",
       "      <th>Data de Lançamento</th>\n",
       "      <th>Classificação</th>\n",
       "    </tr>\n",
       "  </thead>\n",
       "  <tbody>\n",
       "    <tr>\n",
       "      <th>0</th>\n",
       "      <td>Python</td>\n",
       "      <td>Alta</td>\n",
       "      <td>3.10</td>\n",
       "      <td>7000000</td>\n",
       "      <td>1991-02-20</td>\n",
       "      <td>Acima</td>\n",
       "    </tr>\n",
       "    <tr>\n",
       "      <th>1</th>\n",
       "      <td>R</td>\n",
       "      <td>Baixa</td>\n",
       "      <td>4.20</td>\n",
       "      <td>500000</td>\n",
       "      <td>1993-08-03</td>\n",
       "      <td>Abaixo</td>\n",
       "    </tr>\n",
       "    <tr>\n",
       "      <th>2</th>\n",
       "      <td>SQL</td>\n",
       "      <td>Altíssima</td>\n",
       "      <td>NaN</td>\n",
       "      <td>20000000</td>\n",
       "      <td>1986-01-01</td>\n",
       "      <td>Acima</td>\n",
       "    </tr>\n",
       "    <tr>\n",
       "      <th>3</th>\n",
       "      <td>C</td>\n",
       "      <td>Média</td>\n",
       "      <td>NaN</td>\n",
       "      <td>3500000</td>\n",
       "      <td>1972-01-01</td>\n",
       "      <td>Acima</td>\n",
       "    </tr>\n",
       "    <tr>\n",
       "      <th>4</th>\n",
       "      <td>Java</td>\n",
       "      <td>Altíssima</td>\n",
       "      <td>11.00</td>\n",
       "      <td>16000000</td>\n",
       "      <td>1995-05-23</td>\n",
       "      <td>Acima</td>\n",
       "    </tr>\n",
       "    <tr>\n",
       "      <th>5</th>\n",
       "      <td>Javascript</td>\n",
       "      <td>Altíssima</td>\n",
       "      <td>16.00</td>\n",
       "      <td>25000000</td>\n",
       "      <td>1995-12-04</td>\n",
       "      <td>Acima</td>\n",
       "    </tr>\n",
       "    <tr>\n",
       "      <th>6</th>\n",
       "      <td>Elixir</td>\n",
       "      <td>Baixa</td>\n",
       "      <td>1.12</td>\n",
       "      <td>200000</td>\n",
       "      <td>2012-01-01</td>\n",
       "      <td>Abaixo</td>\n",
       "    </tr>\n",
       "  </tbody>\n",
       "</table>\n",
       "</div>"
      ],
      "text/plain": [
       "    Linguagem Popularidade  Versão  Desenvolvedores Data de Lançamento  \\\n",
       "0      Python         Alta    3.10          7000000         1991-02-20   \n",
       "1           R        Baixa    4.20           500000         1993-08-03   \n",
       "2         SQL    Altíssima     NaN         20000000         1986-01-01   \n",
       "3           C        Média     NaN          3500000         1972-01-01   \n",
       "4        Java    Altíssima   11.00         16000000         1995-05-23   \n",
       "5  Javascript    Altíssima   16.00         25000000         1995-12-04   \n",
       "6      Elixir        Baixa    1.12           200000         2012-01-01   \n",
       "\n",
       "  Classificação  \n",
       "0         Acima  \n",
       "1        Abaixo  \n",
       "2         Acima  \n",
       "3         Acima  \n",
       "4         Acima  \n",
       "5         Acima  \n",
       "6        Abaixo  "
      ]
     },
     "execution_count": 10,
     "metadata": {},
     "output_type": "execute_result"
    }
   ],
   "source": [
    "data.loc[data['Desenvolvedores'].map(int) > 1000000, 'Classificação'] = 'Acima'\n",
    "data.loc[data['Desenvolvedores'].map(int) < 1000000, 'Classificação'] = 'Abaixo'\n",
    "data"
   ]
  },
  {
   "cell_type": "code",
   "execution_count": 11,
   "id": "13629799",
   "metadata": {},
   "outputs": [],
   "source": [
    "df = pd.read_csv('wines.csv')"
   ]
  },
  {
   "cell_type": "code",
   "execution_count": 12,
   "id": "71df1604",
   "metadata": {},
   "outputs": [
    {
     "data": {
      "text/html": [
       "<div>\n",
       "<style scoped>\n",
       "    .dataframe tbody tr th:only-of-type {\n",
       "        vertical-align: middle;\n",
       "    }\n",
       "\n",
       "    .dataframe tbody tr th {\n",
       "        vertical-align: top;\n",
       "    }\n",
       "\n",
       "    .dataframe thead th {\n",
       "        text-align: right;\n",
       "    }\n",
       "</style>\n",
       "<table border=\"1\" class=\"dataframe\">\n",
       "  <thead>\n",
       "    <tr style=\"text-align: right;\">\n",
       "      <th></th>\n",
       "      <th>date</th>\n",
       "      <th>label</th>\n",
       "      <th>vintage</th>\n",
       "      <th>style</th>\n",
       "      <th>country</th>\n",
       "      <th>price</th>\n",
       "      <th>quantity</th>\n",
       "      <th>rate</th>\n",
       "    </tr>\n",
       "  </thead>\n",
       "  <tbody>\n",
       "    <tr>\n",
       "      <th>0</th>\n",
       "      <td>2021-01-04</td>\n",
       "      <td>Wine K</td>\n",
       "      <td>2002</td>\n",
       "      <td>White</td>\n",
       "      <td>Portugal</td>\n",
       "      <td>144.22</td>\n",
       "      <td>9</td>\n",
       "      <td>97</td>\n",
       "    </tr>\n",
       "    <tr>\n",
       "      <th>1</th>\n",
       "      <td>2021-03-11</td>\n",
       "      <td>Wine J</td>\n",
       "      <td>1982</td>\n",
       "      <td>Red</td>\n",
       "      <td>Portugal</td>\n",
       "      <td>244.80</td>\n",
       "      <td>3</td>\n",
       "      <td>76</td>\n",
       "    </tr>\n",
       "    <tr>\n",
       "      <th>2</th>\n",
       "      <td>2021-10-02</td>\n",
       "      <td>Wine Y</td>\n",
       "      <td>2018</td>\n",
       "      <td>Orange</td>\n",
       "      <td>France</td>\n",
       "      <td>98.83</td>\n",
       "      <td>2</td>\n",
       "      <td>79</td>\n",
       "    </tr>\n",
       "    <tr>\n",
       "      <th>3</th>\n",
       "      <td>2021-06-05</td>\n",
       "      <td>Wine I</td>\n",
       "      <td>1989</td>\n",
       "      <td>Red</td>\n",
       "      <td>Spain</td>\n",
       "      <td>59.64</td>\n",
       "      <td>11</td>\n",
       "      <td>77</td>\n",
       "    </tr>\n",
       "    <tr>\n",
       "      <th>4</th>\n",
       "      <td>2021-09-06</td>\n",
       "      <td>Wine N</td>\n",
       "      <td>2006</td>\n",
       "      <td>White</td>\n",
       "      <td>Spain</td>\n",
       "      <td>187.70</td>\n",
       "      <td>6</td>\n",
       "      <td>91</td>\n",
       "    </tr>\n",
       "    <tr>\n",
       "      <th>...</th>\n",
       "      <td>...</td>\n",
       "      <td>...</td>\n",
       "      <td>...</td>\n",
       "      <td>...</td>\n",
       "      <td>...</td>\n",
       "      <td>...</td>\n",
       "      <td>...</td>\n",
       "      <td>...</td>\n",
       "    </tr>\n",
       "    <tr>\n",
       "      <th>9995</th>\n",
       "      <td>2021-08-07</td>\n",
       "      <td>Wine S</td>\n",
       "      <td>1983</td>\n",
       "      <td>Rose</td>\n",
       "      <td>France</td>\n",
       "      <td>264.69</td>\n",
       "      <td>6</td>\n",
       "      <td>89</td>\n",
       "    </tr>\n",
       "    <tr>\n",
       "      <th>9996</th>\n",
       "      <td>2021-03-03</td>\n",
       "      <td>Wine S</td>\n",
       "      <td>1994</td>\n",
       "      <td>Rose</td>\n",
       "      <td>Spain</td>\n",
       "      <td>55.84</td>\n",
       "      <td>4</td>\n",
       "      <td>100</td>\n",
       "    </tr>\n",
       "    <tr>\n",
       "      <th>9997</th>\n",
       "      <td>2021-12-28</td>\n",
       "      <td>Wine N</td>\n",
       "      <td>2001</td>\n",
       "      <td>White</td>\n",
       "      <td>Portugal</td>\n",
       "      <td>137.79</td>\n",
       "      <td>13</td>\n",
       "      <td>96</td>\n",
       "    </tr>\n",
       "    <tr>\n",
       "      <th>9998</th>\n",
       "      <td>2021-06-19</td>\n",
       "      <td>Wine T</td>\n",
       "      <td>1988</td>\n",
       "      <td>Rose</td>\n",
       "      <td>Italy</td>\n",
       "      <td>100.29</td>\n",
       "      <td>9</td>\n",
       "      <td>83</td>\n",
       "    </tr>\n",
       "    <tr>\n",
       "      <th>9999</th>\n",
       "      <td>2021-09-18</td>\n",
       "      <td>Wine V</td>\n",
       "      <td>1982</td>\n",
       "      <td>Sweet</td>\n",
       "      <td>Portugal</td>\n",
       "      <td>63.85</td>\n",
       "      <td>13</td>\n",
       "      <td>100</td>\n",
       "    </tr>\n",
       "  </tbody>\n",
       "</table>\n",
       "<p>10000 rows × 8 columns</p>\n",
       "</div>"
      ],
      "text/plain": [
       "            date   label  vintage   style   country   price  quantity  rate\n",
       "0     2021-01-04  Wine K     2002   White  Portugal  144.22         9    97\n",
       "1     2021-03-11  Wine J     1982     Red  Portugal  244.80         3    76\n",
       "2     2021-10-02  Wine Y     2018  Orange    France   98.83         2    79\n",
       "3     2021-06-05  Wine I     1989     Red     Spain   59.64        11    77\n",
       "4     2021-09-06  Wine N     2006   White     Spain  187.70         6    91\n",
       "...          ...     ...      ...     ...       ...     ...       ...   ...\n",
       "9995  2021-08-07  Wine S     1983    Rose    France  264.69         6    89\n",
       "9996  2021-03-03  Wine S     1994    Rose     Spain   55.84         4   100\n",
       "9997  2021-12-28  Wine N     2001   White  Portugal  137.79        13    96\n",
       "9998  2021-06-19  Wine T     1988    Rose     Italy  100.29         9    83\n",
       "9999  2021-09-18  Wine V     1982   Sweet  Portugal   63.85        13   100\n",
       "\n",
       "[10000 rows x 8 columns]"
      ]
     },
     "execution_count": 12,
     "metadata": {},
     "output_type": "execute_result"
    }
   ],
   "source": [
    "df"
   ]
  },
  {
   "cell_type": "code",
   "execution_count": 25,
   "id": "8a8dfcb4",
   "metadata": {},
   "outputs": [
    {
     "data": {
      "text/plain": [
       "1107.89"
      ]
     },
     "execution_count": 25,
     "metadata": {},
     "output_type": "execute_result"
    }
   ],
   "source": [
    "# Quanto custa o vinho mais caro\n",
    "df['price'].max()"
   ]
  },
  {
   "cell_type": "code",
   "execution_count": 24,
   "id": "3756adff",
   "metadata": {},
   "outputs": [
    {
     "data": {
      "text/plain": [
       "50.01"
      ]
     },
     "execution_count": 24,
     "metadata": {},
     "output_type": "execute_result"
    }
   ],
   "source": [
    "# Quanto custo o vinho mais barato\n",
    "df['price'].min()"
   ]
  },
  {
   "cell_type": "code",
   "execution_count": 26,
   "id": "b0429fc8",
   "metadata": {},
   "outputs": [
    {
     "data": {
      "text/html": [
       "<div>\n",
       "<style scoped>\n",
       "    .dataframe tbody tr th:only-of-type {\n",
       "        vertical-align: middle;\n",
       "    }\n",
       "\n",
       "    .dataframe tbody tr th {\n",
       "        vertical-align: top;\n",
       "    }\n",
       "\n",
       "    .dataframe thead th {\n",
       "        text-align: right;\n",
       "    }\n",
       "</style>\n",
       "<table border=\"1\" class=\"dataframe\">\n",
       "  <thead>\n",
       "    <tr style=\"text-align: right;\">\n",
       "      <th></th>\n",
       "      <th>date</th>\n",
       "      <th>label</th>\n",
       "      <th>vintage</th>\n",
       "      <th>style</th>\n",
       "      <th>country</th>\n",
       "      <th>price</th>\n",
       "      <th>quantity</th>\n",
       "      <th>rate</th>\n",
       "    </tr>\n",
       "  </thead>\n",
       "  <tbody>\n",
       "    <tr>\n",
       "      <th>1249</th>\n",
       "      <td>2021-09-29</td>\n",
       "      <td>Wine Q</td>\n",
       "      <td>2002</td>\n",
       "      <td>Sparkling</td>\n",
       "      <td>Italy</td>\n",
       "      <td>1107.89</td>\n",
       "      <td>13</td>\n",
       "      <td>92</td>\n",
       "    </tr>\n",
       "  </tbody>\n",
       "</table>\n",
       "</div>"
      ],
      "text/plain": [
       "            date   label  vintage      style country    price  quantity  rate\n",
       "1249  2021-09-29  Wine Q     2002  Sparkling   Italy  1107.89        13    92"
      ]
     },
     "execution_count": 26,
     "metadata": {},
     "output_type": "execute_result"
    }
   ],
   "source": [
    "# Qual o vinho mais caro\n",
    "df.loc[df.price == df['price'].max()]"
   ]
  },
  {
   "cell_type": "code",
   "execution_count": 28,
   "id": "72ad2925",
   "metadata": {},
   "outputs": [
    {
     "data": {
      "text/html": [
       "<div>\n",
       "<style scoped>\n",
       "    .dataframe tbody tr th:only-of-type {\n",
       "        vertical-align: middle;\n",
       "    }\n",
       "\n",
       "    .dataframe tbody tr th {\n",
       "        vertical-align: top;\n",
       "    }\n",
       "\n",
       "    .dataframe thead th {\n",
       "        text-align: right;\n",
       "    }\n",
       "</style>\n",
       "<table border=\"1\" class=\"dataframe\">\n",
       "  <thead>\n",
       "    <tr style=\"text-align: right;\">\n",
       "      <th></th>\n",
       "      <th>date</th>\n",
       "      <th>label</th>\n",
       "      <th>vintage</th>\n",
       "      <th>style</th>\n",
       "      <th>country</th>\n",
       "      <th>price</th>\n",
       "      <th>quantity</th>\n",
       "      <th>rate</th>\n",
       "    </tr>\n",
       "  </thead>\n",
       "  <tbody>\n",
       "    <tr>\n",
       "      <th>4910</th>\n",
       "      <td>2021-08-15</td>\n",
       "      <td>Wine Z</td>\n",
       "      <td>2009</td>\n",
       "      <td>Orange</td>\n",
       "      <td>Brazil</td>\n",
       "      <td>50.01</td>\n",
       "      <td>5</td>\n",
       "      <td>90</td>\n",
       "    </tr>\n",
       "    <tr>\n",
       "      <th>9256</th>\n",
       "      <td>2021-11-01</td>\n",
       "      <td>Wine W</td>\n",
       "      <td>1995</td>\n",
       "      <td>Sweet</td>\n",
       "      <td>Brazil</td>\n",
       "      <td>50.01</td>\n",
       "      <td>12</td>\n",
       "      <td>94</td>\n",
       "    </tr>\n",
       "  </tbody>\n",
       "</table>\n",
       "</div>"
      ],
      "text/plain": [
       "            date   label  vintage   style country  price  quantity  rate\n",
       "4910  2021-08-15  Wine Z     2009  Orange  Brazil  50.01         5    90\n",
       "9256  2021-11-01  Wine W     1995   Sweet  Brazil  50.01        12    94"
      ]
     },
     "execution_count": 28,
     "metadata": {},
     "output_type": "execute_result"
    }
   ],
   "source": [
    "# Qual o vinho mais barato\n",
    "df.loc[df.price == df['price'].min()]"
   ]
  },
  {
   "cell_type": "code",
   "execution_count": 35,
   "id": "e6d67c8e",
   "metadata": {},
   "outputs": [
    {
     "data": {
      "text/plain": [
       "date         object\n",
       "label        object\n",
       "vintage       int64\n",
       "style        object\n",
       "country      object\n",
       "price       float64\n",
       "quantity      int64\n",
       "rate          int64\n",
       "dtype: object"
      ]
     },
     "execution_count": 35,
     "metadata": {},
     "output_type": "execute_result"
    }
   ],
   "source": [
    "df.dtypes"
   ]
  },
  {
   "cell_type": "code",
   "execution_count": 36,
   "id": "12b2495f",
   "metadata": {},
   "outputs": [
    {
     "data": {
      "text/html": [
       "<div>\n",
       "<style scoped>\n",
       "    .dataframe tbody tr th:only-of-type {\n",
       "        vertical-align: middle;\n",
       "    }\n",
       "\n",
       "    .dataframe tbody tr th {\n",
       "        vertical-align: top;\n",
       "    }\n",
       "\n",
       "    .dataframe thead th {\n",
       "        text-align: right;\n",
       "    }\n",
       "</style>\n",
       "<table border=\"1\" class=\"dataframe\">\n",
       "  <thead>\n",
       "    <tr style=\"text-align: right;\">\n",
       "      <th></th>\n",
       "      <th>date</th>\n",
       "      <th>label</th>\n",
       "      <th>vintage</th>\n",
       "      <th>style</th>\n",
       "      <th>country</th>\n",
       "      <th>price</th>\n",
       "      <th>quantity</th>\n",
       "      <th>rate</th>\n",
       "    </tr>\n",
       "  </thead>\n",
       "  <tbody>\n",
       "    <tr>\n",
       "      <th>0</th>\n",
       "      <td>2021-01-04</td>\n",
       "      <td>Wine K</td>\n",
       "      <td>2002</td>\n",
       "      <td>White</td>\n",
       "      <td>Portugal</td>\n",
       "      <td>144.22</td>\n",
       "      <td>9</td>\n",
       "      <td>97</td>\n",
       "    </tr>\n",
       "    <tr>\n",
       "      <th>1</th>\n",
       "      <td>2021-03-11</td>\n",
       "      <td>Wine J</td>\n",
       "      <td>1982</td>\n",
       "      <td>Red</td>\n",
       "      <td>Portugal</td>\n",
       "      <td>244.80</td>\n",
       "      <td>3</td>\n",
       "      <td>76</td>\n",
       "    </tr>\n",
       "    <tr>\n",
       "      <th>2</th>\n",
       "      <td>2021-10-02</td>\n",
       "      <td>Wine Y</td>\n",
       "      <td>2018</td>\n",
       "      <td>Orange</td>\n",
       "      <td>France</td>\n",
       "      <td>98.83</td>\n",
       "      <td>2</td>\n",
       "      <td>79</td>\n",
       "    </tr>\n",
       "    <tr>\n",
       "      <th>3</th>\n",
       "      <td>2021-06-05</td>\n",
       "      <td>Wine I</td>\n",
       "      <td>1989</td>\n",
       "      <td>Red</td>\n",
       "      <td>Spain</td>\n",
       "      <td>59.64</td>\n",
       "      <td>11</td>\n",
       "      <td>77</td>\n",
       "    </tr>\n",
       "    <tr>\n",
       "      <th>4</th>\n",
       "      <td>2021-09-06</td>\n",
       "      <td>Wine N</td>\n",
       "      <td>2006</td>\n",
       "      <td>White</td>\n",
       "      <td>Spain</td>\n",
       "      <td>187.70</td>\n",
       "      <td>6</td>\n",
       "      <td>91</td>\n",
       "    </tr>\n",
       "    <tr>\n",
       "      <th>...</th>\n",
       "      <td>...</td>\n",
       "      <td>...</td>\n",
       "      <td>...</td>\n",
       "      <td>...</td>\n",
       "      <td>...</td>\n",
       "      <td>...</td>\n",
       "      <td>...</td>\n",
       "      <td>...</td>\n",
       "    </tr>\n",
       "    <tr>\n",
       "      <th>9995</th>\n",
       "      <td>2021-08-07</td>\n",
       "      <td>Wine S</td>\n",
       "      <td>1983</td>\n",
       "      <td>Rose</td>\n",
       "      <td>France</td>\n",
       "      <td>264.69</td>\n",
       "      <td>6</td>\n",
       "      <td>89</td>\n",
       "    </tr>\n",
       "    <tr>\n",
       "      <th>9996</th>\n",
       "      <td>2021-03-03</td>\n",
       "      <td>Wine S</td>\n",
       "      <td>1994</td>\n",
       "      <td>Rose</td>\n",
       "      <td>Spain</td>\n",
       "      <td>55.84</td>\n",
       "      <td>4</td>\n",
       "      <td>100</td>\n",
       "    </tr>\n",
       "    <tr>\n",
       "      <th>9997</th>\n",
       "      <td>2021-12-28</td>\n",
       "      <td>Wine N</td>\n",
       "      <td>2001</td>\n",
       "      <td>White</td>\n",
       "      <td>Portugal</td>\n",
       "      <td>137.79</td>\n",
       "      <td>13</td>\n",
       "      <td>96</td>\n",
       "    </tr>\n",
       "    <tr>\n",
       "      <th>9998</th>\n",
       "      <td>2021-06-19</td>\n",
       "      <td>Wine T</td>\n",
       "      <td>1988</td>\n",
       "      <td>Rose</td>\n",
       "      <td>Italy</td>\n",
       "      <td>100.29</td>\n",
       "      <td>9</td>\n",
       "      <td>83</td>\n",
       "    </tr>\n",
       "    <tr>\n",
       "      <th>9999</th>\n",
       "      <td>2021-09-18</td>\n",
       "      <td>Wine V</td>\n",
       "      <td>1982</td>\n",
       "      <td>Sweet</td>\n",
       "      <td>Portugal</td>\n",
       "      <td>63.85</td>\n",
       "      <td>13</td>\n",
       "      <td>100</td>\n",
       "    </tr>\n",
       "  </tbody>\n",
       "</table>\n",
       "<p>10000 rows × 8 columns</p>\n",
       "</div>"
      ],
      "text/plain": [
       "           date   label  vintage   style   country   price  quantity  rate\n",
       "0    2021-01-04  Wine K     2002   White  Portugal  144.22         9    97\n",
       "1    2021-03-11  Wine J     1982     Red  Portugal  244.80         3    76\n",
       "2    2021-10-02  Wine Y     2018  Orange    France   98.83         2    79\n",
       "3    2021-06-05  Wine I     1989     Red     Spain   59.64        11    77\n",
       "4    2021-09-06  Wine N     2006   White     Spain  187.70         6    91\n",
       "...         ...     ...      ...     ...       ...     ...       ...   ...\n",
       "9995 2021-08-07  Wine S     1983    Rose    France  264.69         6    89\n",
       "9996 2021-03-03  Wine S     1994    Rose     Spain   55.84         4   100\n",
       "9997 2021-12-28  Wine N     2001   White  Portugal  137.79        13    96\n",
       "9998 2021-06-19  Wine T     1988    Rose     Italy  100.29         9    83\n",
       "9999 2021-09-18  Wine V     1982   Sweet  Portugal   63.85        13   100\n",
       "\n",
       "[10000 rows x 8 columns]"
      ]
     },
     "metadata": {},
     "output_type": "display_data"
    }
   ],
   "source": [
    "import datetime\n",
    "\n",
    "df.date = pd.to_datetime(df.date)\n",
    "display(df)"
   ]
  },
  {
   "cell_type": "code",
   "execution_count": 37,
   "id": "7a5a5451",
   "metadata": {},
   "outputs": [
    {
     "data": {
      "text/plain": [
       "date        datetime64[ns]\n",
       "label               object\n",
       "vintage              int64\n",
       "style               object\n",
       "country             object\n",
       "price              float64\n",
       "quantity             int64\n",
       "rate                 int64\n",
       "dtype: object"
      ]
     },
     "execution_count": 37,
     "metadata": {},
     "output_type": "execute_result"
    }
   ],
   "source": [
    "df.dtypes"
   ]
  },
  {
   "cell_type": "code",
   "execution_count": 49,
   "id": "426f170e",
   "metadata": {},
   "outputs": [
    {
     "data": {
      "text/plain": [
       "16991676.32000006"
      ]
     },
     "execution_count": 49,
     "metadata": {},
     "output_type": "execute_result"
    }
   ],
   "source": [
    "# Quanto foi vendido em 2021\n",
    "resultado = df.loc[df.date.dt.year == 2021]\n",
    "resultado1 = sum(df['price'] * df['quantity'])\n",
    "resultado1"
   ]
  },
  {
   "cell_type": "code",
   "execution_count": 51,
   "id": "e6b9aa74",
   "metadata": {},
   "outputs": [
    {
     "data": {
      "text/plain": [
       "80155"
      ]
     },
     "execution_count": 51,
     "metadata": {},
     "output_type": "execute_result"
    }
   ],
   "source": [
    "# Quantas garrafas no total?\n",
    "df['quantity'].sum()"
   ]
  },
  {
   "cell_type": "code",
   "execution_count": 52,
   "id": "bab8ee3a",
   "metadata": {},
   "outputs": [
    {
     "data": {
      "text/plain": [
       "100"
      ]
     },
     "execution_count": 52,
     "metadata": {},
     "output_type": "execute_result"
    }
   ],
   "source": [
    "# Qual vinho teve a maior nota?\n",
    "df['rate'].max()"
   ]
  },
  {
   "cell_type": "code",
   "execution_count": 53,
   "id": "7bd6b564",
   "metadata": {},
   "outputs": [
    {
     "data": {
      "text/plain": [
       "75"
      ]
     },
     "execution_count": 53,
     "metadata": {},
     "output_type": "execute_result"
    }
   ],
   "source": [
    "# Qual vinho teve a menor nota?\n",
    "df['rate'].min()"
   ]
  },
  {
   "cell_type": "code",
   "execution_count": 57,
   "id": "7abe4d23",
   "metadata": {},
   "outputs": [
    {
     "data": {
      "text/plain": [
       "1982"
      ]
     },
     "execution_count": 57,
     "metadata": {},
     "output_type": "execute_result"
    }
   ],
   "source": [
    "# Qual a safra mais antiga?\n",
    "df.vintage.min()"
   ]
  },
  {
   "cell_type": "code",
   "execution_count": 58,
   "id": "79a995d0",
   "metadata": {},
   "outputs": [
    {
     "data": {
      "text/plain": [
       "2021"
      ]
     },
     "execution_count": 58,
     "metadata": {},
     "output_type": "execute_result"
    }
   ],
   "source": [
    "# Qual a safra mais recente?\n",
    "df.vintage.max()"
   ]
  },
  {
   "cell_type": "code",
   "execution_count": 144,
   "id": "04470ae2",
   "metadata": {},
   "outputs": [
    {
     "data": {
      "text/plain": [
       "country\n",
       "Italy    8335\n",
       "Name: quantity, dtype: int64"
      ]
     },
     "execution_count": 144,
     "metadata": {},
     "output_type": "execute_result"
    }
   ],
   "source": [
    "# Qual país teve mais garrafa vendida?\n",
    "df.groupby('country')['quantity'].sum().sort_values(ascending=False).head(1)"
   ]
  },
  {
   "cell_type": "code",
   "execution_count": 145,
   "id": "93af748a",
   "metadata": {},
   "outputs": [
    {
     "data": {
      "text/plain": [
       "country\n",
       "USA    7402\n",
       "Name: quantity, dtype: int64"
      ]
     },
     "execution_count": 145,
     "metadata": {},
     "output_type": "execute_result"
    }
   ],
   "source": [
    "# Qual país teve menos menos garrafa vendida?\n",
    "df.groupby('country')['quantity'].sum().sort_values(ascending=False).tail(1)"
   ]
  },
  {
   "cell_type": "code",
   "execution_count": 70,
   "id": "f4e7c479",
   "metadata": {},
   "outputs": [
    {
     "data": {
      "text/html": [
       "<div>\n",
       "<style scoped>\n",
       "    .dataframe tbody tr th:only-of-type {\n",
       "        vertical-align: middle;\n",
       "    }\n",
       "\n",
       "    .dataframe tbody tr th {\n",
       "        vertical-align: top;\n",
       "    }\n",
       "\n",
       "    .dataframe thead th {\n",
       "        text-align: right;\n",
       "    }\n",
       "</style>\n",
       "<table border=\"1\" class=\"dataframe\">\n",
       "  <thead>\n",
       "    <tr style=\"text-align: right;\">\n",
       "      <th></th>\n",
       "      <th>date</th>\n",
       "      <th>label</th>\n",
       "      <th>vintage</th>\n",
       "      <th>style</th>\n",
       "      <th>country</th>\n",
       "      <th>price</th>\n",
       "      <th>quantity</th>\n",
       "      <th>rate</th>\n",
       "    </tr>\n",
       "  </thead>\n",
       "  <tbody>\n",
       "    <tr>\n",
       "      <th>2</th>\n",
       "      <td>2021-10-02</td>\n",
       "      <td>Wine Y</td>\n",
       "      <td>2018</td>\n",
       "      <td>Orange</td>\n",
       "      <td>France</td>\n",
       "      <td>98.83</td>\n",
       "      <td>2</td>\n",
       "      <td>79</td>\n",
       "    </tr>\n",
       "    <tr>\n",
       "      <th>3</th>\n",
       "      <td>2021-06-05</td>\n",
       "      <td>Wine I</td>\n",
       "      <td>1989</td>\n",
       "      <td>Red</td>\n",
       "      <td>Spain</td>\n",
       "      <td>59.64</td>\n",
       "      <td>11</td>\n",
       "      <td>77</td>\n",
       "    </tr>\n",
       "    <tr>\n",
       "      <th>9</th>\n",
       "      <td>2021-04-25</td>\n",
       "      <td>Wine Y</td>\n",
       "      <td>1988</td>\n",
       "      <td>Orange</td>\n",
       "      <td>Italy</td>\n",
       "      <td>70.33</td>\n",
       "      <td>9</td>\n",
       "      <td>95</td>\n",
       "    </tr>\n",
       "    <tr>\n",
       "      <th>14</th>\n",
       "      <td>2021-08-12</td>\n",
       "      <td>Wine L</td>\n",
       "      <td>1985</td>\n",
       "      <td>White</td>\n",
       "      <td>Italy</td>\n",
       "      <td>73.44</td>\n",
       "      <td>5</td>\n",
       "      <td>82</td>\n",
       "    </tr>\n",
       "    <tr>\n",
       "      <th>21</th>\n",
       "      <td>2021-02-06</td>\n",
       "      <td>Wine U</td>\n",
       "      <td>2018</td>\n",
       "      <td>Rose</td>\n",
       "      <td>Germany</td>\n",
       "      <td>57.91</td>\n",
       "      <td>9</td>\n",
       "      <td>96</td>\n",
       "    </tr>\n",
       "    <tr>\n",
       "      <th>...</th>\n",
       "      <td>...</td>\n",
       "      <td>...</td>\n",
       "      <td>...</td>\n",
       "      <td>...</td>\n",
       "      <td>...</td>\n",
       "      <td>...</td>\n",
       "      <td>...</td>\n",
       "      <td>...</td>\n",
       "    </tr>\n",
       "    <tr>\n",
       "      <th>9984</th>\n",
       "      <td>2021-04-26</td>\n",
       "      <td>Wine Y</td>\n",
       "      <td>1998</td>\n",
       "      <td>Orange</td>\n",
       "      <td>Spain</td>\n",
       "      <td>74.85</td>\n",
       "      <td>6</td>\n",
       "      <td>82</td>\n",
       "    </tr>\n",
       "    <tr>\n",
       "      <th>9986</th>\n",
       "      <td>2021-11-20</td>\n",
       "      <td>Wine Y</td>\n",
       "      <td>2015</td>\n",
       "      <td>Orange</td>\n",
       "      <td>Spain</td>\n",
       "      <td>57.62</td>\n",
       "      <td>12</td>\n",
       "      <td>87</td>\n",
       "    </tr>\n",
       "    <tr>\n",
       "      <th>9987</th>\n",
       "      <td>2021-09-04</td>\n",
       "      <td>Wine O</td>\n",
       "      <td>1987</td>\n",
       "      <td>White</td>\n",
       "      <td>France</td>\n",
       "      <td>97.65</td>\n",
       "      <td>15</td>\n",
       "      <td>89</td>\n",
       "    </tr>\n",
       "    <tr>\n",
       "      <th>9996</th>\n",
       "      <td>2021-03-03</td>\n",
       "      <td>Wine S</td>\n",
       "      <td>1994</td>\n",
       "      <td>Rose</td>\n",
       "      <td>Spain</td>\n",
       "      <td>55.84</td>\n",
       "      <td>4</td>\n",
       "      <td>100</td>\n",
       "    </tr>\n",
       "    <tr>\n",
       "      <th>9999</th>\n",
       "      <td>2021-09-18</td>\n",
       "      <td>Wine V</td>\n",
       "      <td>1982</td>\n",
       "      <td>Sweet</td>\n",
       "      <td>Portugal</td>\n",
       "      <td>63.85</td>\n",
       "      <td>13</td>\n",
       "      <td>100</td>\n",
       "    </tr>\n",
       "  </tbody>\n",
       "</table>\n",
       "<p>2248 rows × 8 columns</p>\n",
       "</div>"
      ],
      "text/plain": [
       "           date   label  vintage   style   country  price  quantity  rate\n",
       "2    2021-10-02  Wine Y     2018  Orange    France  98.83         2    79\n",
       "3    2021-06-05  Wine I     1989     Red     Spain  59.64        11    77\n",
       "9    2021-04-25  Wine Y     1988  Orange     Italy  70.33         9    95\n",
       "14   2021-08-12  Wine L     1985   White     Italy  73.44         5    82\n",
       "21   2021-02-06  Wine U     2018    Rose   Germany  57.91         9    96\n",
       "...         ...     ...      ...     ...       ...    ...       ...   ...\n",
       "9984 2021-04-26  Wine Y     1998  Orange     Spain  74.85         6    82\n",
       "9986 2021-11-20  Wine Y     2015  Orange     Spain  57.62        12    87\n",
       "9987 2021-09-04  Wine O     1987   White    France  97.65        15    89\n",
       "9996 2021-03-03  Wine S     1994    Rose     Spain  55.84         4   100\n",
       "9999 2021-09-18  Wine V     1982   Sweet  Portugal  63.85        13   100\n",
       "\n",
       "[2248 rows x 8 columns]"
      ]
     },
     "execution_count": 70,
     "metadata": {},
     "output_type": "execute_result"
    }
   ],
   "source": [
    "# Quantos vinhos abaixo de R$100,00 foram vendidos?\n",
    "df.loc[df.price < 100]"
   ]
  },
  {
   "cell_type": "code",
   "execution_count": 71,
   "id": "ee803097",
   "metadata": {},
   "outputs": [
    {
     "data": {
      "text/html": [
       "<div>\n",
       "<style scoped>\n",
       "    .dataframe tbody tr th:only-of-type {\n",
       "        vertical-align: middle;\n",
       "    }\n",
       "\n",
       "    .dataframe tbody tr th {\n",
       "        vertical-align: top;\n",
       "    }\n",
       "\n",
       "    .dataframe thead th {\n",
       "        text-align: right;\n",
       "    }\n",
       "</style>\n",
       "<table border=\"1\" class=\"dataframe\">\n",
       "  <thead>\n",
       "    <tr style=\"text-align: right;\">\n",
       "      <th></th>\n",
       "      <th>date</th>\n",
       "      <th>label</th>\n",
       "      <th>vintage</th>\n",
       "      <th>style</th>\n",
       "      <th>country</th>\n",
       "      <th>price</th>\n",
       "      <th>quantity</th>\n",
       "      <th>rate</th>\n",
       "    </tr>\n",
       "  </thead>\n",
       "  <tbody>\n",
       "    <tr>\n",
       "      <th>0</th>\n",
       "      <td>2021-01-04</td>\n",
       "      <td>Wine K</td>\n",
       "      <td>2002</td>\n",
       "      <td>White</td>\n",
       "      <td>Portugal</td>\n",
       "      <td>144.22</td>\n",
       "      <td>9</td>\n",
       "      <td>97</td>\n",
       "    </tr>\n",
       "    <tr>\n",
       "      <th>1</th>\n",
       "      <td>2021-03-11</td>\n",
       "      <td>Wine J</td>\n",
       "      <td>1982</td>\n",
       "      <td>Red</td>\n",
       "      <td>Portugal</td>\n",
       "      <td>244.80</td>\n",
       "      <td>3</td>\n",
       "      <td>76</td>\n",
       "    </tr>\n",
       "    <tr>\n",
       "      <th>4</th>\n",
       "      <td>2021-09-06</td>\n",
       "      <td>Wine N</td>\n",
       "      <td>2006</td>\n",
       "      <td>White</td>\n",
       "      <td>Spain</td>\n",
       "      <td>187.70</td>\n",
       "      <td>6</td>\n",
       "      <td>91</td>\n",
       "    </tr>\n",
       "    <tr>\n",
       "      <th>5</th>\n",
       "      <td>2021-07-10</td>\n",
       "      <td>Wine O</td>\n",
       "      <td>2020</td>\n",
       "      <td>White</td>\n",
       "      <td>Chile</td>\n",
       "      <td>196.02</td>\n",
       "      <td>13</td>\n",
       "      <td>79</td>\n",
       "    </tr>\n",
       "    <tr>\n",
       "      <th>6</th>\n",
       "      <td>2021-11-01</td>\n",
       "      <td>Wine A</td>\n",
       "      <td>2003</td>\n",
       "      <td>Red</td>\n",
       "      <td>USA</td>\n",
       "      <td>464.32</td>\n",
       "      <td>9</td>\n",
       "      <td>99</td>\n",
       "    </tr>\n",
       "    <tr>\n",
       "      <th>...</th>\n",
       "      <td>...</td>\n",
       "      <td>...</td>\n",
       "      <td>...</td>\n",
       "      <td>...</td>\n",
       "      <td>...</td>\n",
       "      <td>...</td>\n",
       "      <td>...</td>\n",
       "      <td>...</td>\n",
       "    </tr>\n",
       "    <tr>\n",
       "      <th>9993</th>\n",
       "      <td>2021-05-21</td>\n",
       "      <td>Wine T</td>\n",
       "      <td>1988</td>\n",
       "      <td>Rose</td>\n",
       "      <td>Portugal</td>\n",
       "      <td>262.82</td>\n",
       "      <td>12</td>\n",
       "      <td>96</td>\n",
       "    </tr>\n",
       "    <tr>\n",
       "      <th>9994</th>\n",
       "      <td>2021-06-27</td>\n",
       "      <td>Wine U</td>\n",
       "      <td>2007</td>\n",
       "      <td>Rose</td>\n",
       "      <td>Italy</td>\n",
       "      <td>112.68</td>\n",
       "      <td>1</td>\n",
       "      <td>95</td>\n",
       "    </tr>\n",
       "    <tr>\n",
       "      <th>9995</th>\n",
       "      <td>2021-08-07</td>\n",
       "      <td>Wine S</td>\n",
       "      <td>1983</td>\n",
       "      <td>Rose</td>\n",
       "      <td>France</td>\n",
       "      <td>264.69</td>\n",
       "      <td>6</td>\n",
       "      <td>89</td>\n",
       "    </tr>\n",
       "    <tr>\n",
       "      <th>9997</th>\n",
       "      <td>2021-12-28</td>\n",
       "      <td>Wine N</td>\n",
       "      <td>2001</td>\n",
       "      <td>White</td>\n",
       "      <td>Portugal</td>\n",
       "      <td>137.79</td>\n",
       "      <td>13</td>\n",
       "      <td>96</td>\n",
       "    </tr>\n",
       "    <tr>\n",
       "      <th>9998</th>\n",
       "      <td>2021-06-19</td>\n",
       "      <td>Wine T</td>\n",
       "      <td>1988</td>\n",
       "      <td>Rose</td>\n",
       "      <td>Italy</td>\n",
       "      <td>100.29</td>\n",
       "      <td>9</td>\n",
       "      <td>83</td>\n",
       "    </tr>\n",
       "  </tbody>\n",
       "</table>\n",
       "<p>7751 rows × 8 columns</p>\n",
       "</div>"
      ],
      "text/plain": [
       "           date   label  vintage  style   country   price  quantity  rate\n",
       "0    2021-01-04  Wine K     2002  White  Portugal  144.22         9    97\n",
       "1    2021-03-11  Wine J     1982    Red  Portugal  244.80         3    76\n",
       "4    2021-09-06  Wine N     2006  White     Spain  187.70         6    91\n",
       "5    2021-07-10  Wine O     2020  White     Chile  196.02        13    79\n",
       "6    2021-11-01  Wine A     2003    Red       USA  464.32         9    99\n",
       "...         ...     ...      ...    ...       ...     ...       ...   ...\n",
       "9993 2021-05-21  Wine T     1988   Rose  Portugal  262.82        12    96\n",
       "9994 2021-06-27  Wine U     2007   Rose     Italy  112.68         1    95\n",
       "9995 2021-08-07  Wine S     1983   Rose    France  264.69         6    89\n",
       "9997 2021-12-28  Wine N     2001  White  Portugal  137.79        13    96\n",
       "9998 2021-06-19  Wine T     1988   Rose     Italy  100.29         9    83\n",
       "\n",
       "[7751 rows x 8 columns]"
      ]
     },
     "execution_count": 71,
     "metadata": {},
     "output_type": "execute_result"
    }
   ],
   "source": [
    "# Quantos vinhos acima de R$100,00 foram vendidos?\n",
    "df.loc[df.price > 100]"
   ]
  },
  {
   "cell_type": "code",
   "execution_count": 75,
   "id": "feccb68b",
   "metadata": {},
   "outputs": [
    {
     "data": {
      "text/plain": [
       "White        1710\n",
       "Rose         1706\n",
       "Orange       1658\n",
       "Sweet        1648\n",
       "Red          1640\n",
       "Sparkling    1638\n",
       "Name: style, dtype: int64"
      ]
     },
     "execution_count": 75,
     "metadata": {},
     "output_type": "execute_result"
    }
   ],
   "source": [
    "df['style'].value_counts()"
   ]
  },
  {
   "cell_type": "code",
   "execution_count": 83,
   "id": "4c221822",
   "metadata": {},
   "outputs": [
    {
     "data": {
      "text/plain": [
       "1086"
      ]
     },
     "execution_count": 83,
     "metadata": {},
     "output_type": "execute_result"
    }
   ],
   "source": [
    "# Quantas garrafas de espumantes foram vendidas no mês de Dezembro?\n",
    "resultado = df[df['style'] == 'Sparkling']\n",
    "resultado1 = resultado.loc[resultado['date'].dt.month == 12]\n",
    "resultado2 = resultado1.quantity.sum()\n",
    "resultado2"
   ]
  },
  {
   "cell_type": "code",
   "execution_count": 93,
   "id": "6a54b2ab",
   "metadata": {},
   "outputs": [
    {
     "data": {
      "text/plain": [
       "style\n",
       "Rose     3138\n",
       "White    3506\n",
       "Name: quantity, dtype: int64"
      ]
     },
     "execution_count": 93,
     "metadata": {},
     "output_type": "execute_result"
    }
   ],
   "source": [
    "# Quantos vinhos brancos e rosés foram vendidos nos meses de Janeiro a Março?\n",
    "resultado = df.loc[(df['style'] == 'White') | (df['style'] == 'Rose')]\n",
    "resultado1 = resultado.loc[resultado['date'].dt.month.isin([1,2,3])]\n",
    "resultado1.groupby('style')['quantity'].sum()"
   ]
  },
  {
   "cell_type": "code",
   "execution_count": 95,
   "id": "39e54733",
   "metadata": {},
   "outputs": [
    {
     "data": {
      "text/plain": [
       "4279841.699999998"
      ]
     },
     "execution_count": 95,
     "metadata": {},
     "output_type": "execute_result"
    }
   ],
   "source": [
    "# Qual foi o faturamento do 1º trimestre de 2021?\n",
    "trimestre1 = df.loc[df['date'].dt.month.isin([1,2,3])]\n",
    "sum(trimestre1['price'] * trimestre1['quantity'])"
   ]
  },
  {
   "cell_type": "code",
   "execution_count": 98,
   "id": "d7082f94",
   "metadata": {},
   "outputs": [
    {
     "data": {
      "text/plain": [
       "19305"
      ]
     },
     "execution_count": 98,
     "metadata": {},
     "output_type": "execute_result"
    }
   ],
   "source": [
    "# Quantas garrafas de tinto foram vendidas no inverno de 2021?\n",
    "resultado = df.loc[(df['date'] > datetime.datetime(2021,6,21)) & (df['date'] < datetime.datetime(2021,9,20))]\n",
    "resultado.quantity.sum()"
   ]
  },
  {
   "cell_type": "code",
   "execution_count": 135,
   "id": "388a25bc",
   "metadata": {},
   "outputs": [
    {
     "data": {
      "text/plain": [
       "mes_ano\n",
       "202107    1479557.54\n",
       "202104    1475165.86\n",
       "202103    1462568.50\n",
       "Name: valor, dtype: float64"
      ]
     },
     "execution_count": 135,
     "metadata": {},
     "output_type": "execute_result"
    }
   ],
   "source": [
    "# Quais os 3 meses de maior faturamento?\n",
    "\n",
    "df['mes_ano'] = df['date'].map(lambda x: 100 * x.year + x.month)\n",
    "df['valor'] = df['price'] * df['quantity']\n",
    "df.groupby('mes_ano')['valor'].sum().sort_values(ascending=False).head(3)"
   ]
  },
  {
   "cell_type": "code",
   "execution_count": 139,
   "id": "2ce6b18c",
   "metadata": {},
   "outputs": [
    {
     "name": "stderr",
     "output_type": "stream",
     "text": [
      "C:\\Users\\User\\AppData\\Local\\Temp\\ipykernel_11504\\277011410.py:1: FutureWarning: Indexing with multiple keys (implicitly converted to a tuple of keys) will be deprecated, use a list instead.\n",
      "  resultado = df.groupby('mes_ano')['valor','quantity'].sum()\n"
     ]
    },
    {
     "data": {
      "text/html": [
       "<div>\n",
       "<style scoped>\n",
       "    .dataframe tbody tr th:only-of-type {\n",
       "        vertical-align: middle;\n",
       "    }\n",
       "\n",
       "    .dataframe tbody tr th {\n",
       "        vertical-align: top;\n",
       "    }\n",
       "\n",
       "    .dataframe thead th {\n",
       "        text-align: right;\n",
       "    }\n",
       "</style>\n",
       "<table border=\"1\" class=\"dataframe\">\n",
       "  <thead>\n",
       "    <tr style=\"text-align: right;\">\n",
       "      <th></th>\n",
       "      <th>valor</th>\n",
       "      <th>quantity</th>\n",
       "      <th>ticket_medio</th>\n",
       "    </tr>\n",
       "    <tr>\n",
       "      <th>mes_ano</th>\n",
       "      <th></th>\n",
       "      <th></th>\n",
       "      <th></th>\n",
       "    </tr>\n",
       "  </thead>\n",
       "  <tbody>\n",
       "    <tr>\n",
       "      <th>202101</th>\n",
       "      <td>1437791.83</td>\n",
       "      <td>6761</td>\n",
       "      <td>212.659641</td>\n",
       "    </tr>\n",
       "    <tr>\n",
       "      <th>202102</th>\n",
       "      <td>1379481.37</td>\n",
       "      <td>6750</td>\n",
       "      <td>204.367610</td>\n",
       "    </tr>\n",
       "    <tr>\n",
       "      <th>202103</th>\n",
       "      <td>1462568.50</td>\n",
       "      <td>6806</td>\n",
       "      <td>214.893991</td>\n",
       "    </tr>\n",
       "    <tr>\n",
       "      <th>202104</th>\n",
       "      <td>1475165.86</td>\n",
       "      <td>6638</td>\n",
       "      <td>222.230470</td>\n",
       "    </tr>\n",
       "    <tr>\n",
       "      <th>202105</th>\n",
       "      <td>1450604.41</td>\n",
       "      <td>6668</td>\n",
       "      <td>217.547152</td>\n",
       "    </tr>\n",
       "    <tr>\n",
       "      <th>202106</th>\n",
       "      <td>1370495.78</td>\n",
       "      <td>6632</td>\n",
       "      <td>206.648941</td>\n",
       "    </tr>\n",
       "    <tr>\n",
       "      <th>202107</th>\n",
       "      <td>1479557.54</td>\n",
       "      <td>6590</td>\n",
       "      <td>224.515560</td>\n",
       "    </tr>\n",
       "    <tr>\n",
       "      <th>202108</th>\n",
       "      <td>1338435.93</td>\n",
       "      <td>6351</td>\n",
       "      <td>210.744124</td>\n",
       "    </tr>\n",
       "    <tr>\n",
       "      <th>202109</th>\n",
       "      <td>1431605.32</td>\n",
       "      <td>6932</td>\n",
       "      <td>206.521252</td>\n",
       "    </tr>\n",
       "    <tr>\n",
       "      <th>202110</th>\n",
       "      <td>1403307.46</td>\n",
       "      <td>6653</td>\n",
       "      <td>210.928522</td>\n",
       "    </tr>\n",
       "    <tr>\n",
       "      <th>202111</th>\n",
       "      <td>1440251.82</td>\n",
       "      <td>6961</td>\n",
       "      <td>206.903005</td>\n",
       "    </tr>\n",
       "    <tr>\n",
       "      <th>202112</th>\n",
       "      <td>1322410.50</td>\n",
       "      <td>6413</td>\n",
       "      <td>206.207781</td>\n",
       "    </tr>\n",
       "  </tbody>\n",
       "</table>\n",
       "</div>"
      ],
      "text/plain": [
       "              valor  quantity  ticket_medio\n",
       "mes_ano                                    \n",
       "202101   1437791.83      6761    212.659641\n",
       "202102   1379481.37      6750    204.367610\n",
       "202103   1462568.50      6806    214.893991\n",
       "202104   1475165.86      6638    222.230470\n",
       "202105   1450604.41      6668    217.547152\n",
       "202106   1370495.78      6632    206.648941\n",
       "202107   1479557.54      6590    224.515560\n",
       "202108   1338435.93      6351    210.744124\n",
       "202109   1431605.32      6932    206.521252\n",
       "202110   1403307.46      6653    210.928522\n",
       "202111   1440251.82      6961    206.903005\n",
       "202112   1322410.50      6413    206.207781"
      ]
     },
     "execution_count": 139,
     "metadata": {},
     "output_type": "execute_result"
    }
   ],
   "source": [
    "resultado = df.groupby('mes_ano')['valor','quantity'].sum()\n",
    "resultado['ticket_medio'] = resultado['valor'] / resultado['quantity']\n",
    "resultado"
   ]
  },
  {
   "cell_type": "code",
   "execution_count": null,
   "id": "4dbad455",
   "metadata": {},
   "outputs": [],
   "source": [
    "pd.options.display"
   ]
  }
 ],
 "metadata": {
  "kernelspec": {
   "display_name": "Python 3 (ipykernel)",
   "language": "python",
   "name": "python3"
  },
  "language_info": {
   "codemirror_mode": {
    "name": "ipython",
    "version": 3
   },
   "file_extension": ".py",
   "mimetype": "text/x-python",
   "name": "python",
   "nbconvert_exporter": "python",
   "pygments_lexer": "ipython3",
   "version": "3.9.12"
  }
 },
 "nbformat": 4,
 "nbformat_minor": 5
}
